{
 "cells": [
  {
   "cell_type": "code",
   "execution_count": 4,
   "metadata": {},
   "outputs": [
    {
     "data": {
      "application/vnd.jupyter.widget-view+json": {
       "model_id": "6811f22c4bca41eab801b88a1124a4ad",
       "version_major": 2,
       "version_minor": 0
      },
      "text/plain": [
       "Button(description='Download latest AFL results.', style=ButtonStyle())"
      ]
     },
     "metadata": {},
     "output_type": "display_data"
    }
   ],
   "source": [
    "from ipywidgets import Button\n",
    "import pandas as pd\n",
    "from afl import run,loop\n",
    "def sayhi(b):\n",
    "    loop()\n",
    "    df = pd.read_pickle('df')\n",
    "def model(predict):\n",
    "    pd.read_pickle('df')\n",
    "    run()\n",
    "b = Button(description='Download latest AFL results.')\n",
    "b.on_click(sayhi)\n",
    "display(b)\n",
    "predict = Button(description='Run model')\n",
    "predict.on_click(model)"
   ]
  },
  {
   "cell_type": "code",
   "execution_count": 2,
   "metadata": {},
   "outputs": [
    {
     "name": "stdout",
     "output_type": "stream",
     "text": [
      "Latest result in database:\n"
     ]
    },
    {
     "data": {
      "text/plain": [
       "HOME                  Geelong\n",
       "HOME SCORE                 77\n",
       "AWAY          North Melbourne\n",
       "AWAY SCORE                 47\n",
       "VENUE           GMHBA Stadium\n",
       "TOTAL                     124\n",
       "Name: 2021-04-18 04:40:00, dtype: object"
      ]
     },
     "execution_count": 2,
     "metadata": {},
     "output_type": "execute_result"
    }
   ],
   "source": [
    "print('Latest result in database:')\n",
    "pd.read_pickle('df').dropna(subset=[('NONVARIABLE','TOTAL')],axis=0).NONVARIABLE.iloc[-1]"
   ]
  },
  {
   "cell_type": "code",
   "execution_count": 3,
   "metadata": {},
   "outputs": [
    {
     "data": {
      "application/vnd.jupyter.widget-view+json": {
       "model_id": "75a65f0840d843fb83b3b216b96366d3",
       "version_major": 2,
       "version_minor": 0
      },
      "text/plain": [
       "Button(description='Run model', style=ButtonStyle())"
      ]
     },
     "metadata": {},
     "output_type": "display_data"
    },
    {
     "name": "stdout",
     "output_type": "stream",
     "text": [
      "+------------+---------------+------------------+\n",
      "|            |      HOME     |       AWAY       |\n",
      "+------------+---------------+------------------+\n",
      "|            |      GWS      | Western Bulldogs |\n",
      "| Exp. Score |       63      |        90        |\n",
      "|   Chance   |     18.3%     |      81.7%       |\n",
      "|    Odds    |     $5.46     |      $1.22       |\n",
      "|            |   Gold Coast  |      Sydney      |\n",
      "| Exp. Score |       69      |        86        |\n",
      "|   Chance   |     28.6%     |      71.4%       |\n",
      "|    Odds    |      $3.5     |       $1.4       |\n",
      "|            |    Geelong    |    West Coast    |\n",
      "| Exp. Score |       83      |        72        |\n",
      "|   Chance   |     62.0%     |      38.0%       |\n",
      "|    Odds    |     $1.61     |      $2.63       |\n",
      "|            |    Carlton    |     Brisbane     |\n",
      "| Exp. Score |       77      |        83        |\n",
      "|   Chance   |     43.7%     |      56.3%       |\n",
      "|    Odds    |     $2.29     |      $1.78       |\n",
      "|            |   Fremantle   | North Melbourne  |\n",
      "| Exp. Score |       89      |        51        |\n",
      "|   Chance   |     89.7%     |      10.3%       |\n",
      "|    Odds    |     $1.11     |      $9.71       |\n",
      "|            |   Melbourne   |     Richmond     |\n",
      "| Exp. Score |       69      |        88        |\n",
      "|   Chance   |     26.2%     |      73.8%       |\n",
      "|    Odds    |     $3.82     |      $1.36       |\n",
      "|            |    Hawthorn   |     Adelaide     |\n",
      "| Exp. Score |       86      |        78        |\n",
      "|   Chance   |     60.0%     |      40.0%       |\n",
      "|    Odds    |     $1.67     |       $2.5       |\n",
      "|            |  Collingwood  |     Essendon     |\n",
      "| Exp. Score |       82      |        75        |\n",
      "|   Chance   |     56.6%     |      43.4%       |\n",
      "|    Odds    |     $1.77     |       $2.3       |\n",
      "|            | Port Adelaide |     St Kilda     |\n",
      "| Exp. Score |       97      |        66        |\n",
      "|   Chance   |     82.1%     |      17.9%       |\n",
      "|    Odds    |     $1.22     |      $5.59       |\n",
      "+------------+---------------+------------------+\n"
     ]
    }
   ],
   "source": [
    "display(predict)"
   ]
  },
  {
   "cell_type": "code",
   "execution_count": null,
   "metadata": {},
   "outputs": [],
   "source": []
  },
  {
   "cell_type": "code",
   "execution_count": null,
   "metadata": {},
   "outputs": [],
   "source": []
  }
 ],
 "metadata": {
  "celltoolbar": "Edit Metadata",
  "kernelspec": {
   "display_name": "Python 3",
   "language": "python",
   "name": "python3"
  },
  "language_info": {
   "codemirror_mode": {
    "name": "ipython",
    "version": 3
   },
   "file_extension": ".py",
   "mimetype": "text/x-python",
   "name": "python",
   "nbconvert_exporter": "python",
   "pygments_lexer": "ipython3",
   "version": "3.7.4"
  }
 },
 "nbformat": 4,
 "nbformat_minor": 2
}
